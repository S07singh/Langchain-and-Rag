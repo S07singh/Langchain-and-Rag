{
 "cells": [
  {
   "cell_type": "code",
   "execution_count": 15,
   "id": "eb3bff44",
   "metadata": {},
   "outputs": [
    {
     "data": {
      "text/plain": [
       "True"
      ]
     },
     "execution_count": 15,
     "metadata": {},
     "output_type": "execute_result"
    }
   ],
   "source": [
    "from langchain_google_genai import GoogleGenerativeAIEmbeddings\n",
    "from langchain.vectorstores import Chroma\n",
    "from langchain.schema import Document\n",
    "from dotenv import load_dotenv\n",
    "load_dotenv()"
   ]
  },
  {
   "cell_type": "code",
   "execution_count": 16,
   "id": "dfb7b275",
   "metadata": {},
   "outputs": [],
   "source": [
    "doc1 = Document(\n",
    "        page_content=\"Virat Kohli is one of the most successful and consistent batsmen in IPL history. Known for his aggressive batting style and fitness, he has led the Royal Challengers Bangalore in multiple seasons.\",\n",
    "        metadata={\"team\": \"Royal Challengers Bangalore\"}\n",
    "    )\n",
    "doc2 = Document(\n",
    "        page_content=\"Rohit Sharma is the most successful captain in IPL history, leading Mumbai Indians to five titles. He's known for his calm demeanor and ability to play big innings under pressure.\",\n",
    "        metadata={\"team\": \"Mumbai Indians\"}\n",
    "    )\n",
    "doc3 = Document(\n",
    "        page_content=\"MS Dhoni, famously known as Captain Cool, has led Chennai Super Kings to multiple IPL titles. His finishing skills, wicketkeeping, and leadership are legendary.\",\n",
    "        metadata={\"team\": \"Chennai Super Kings\"}\n",
    "    )\n",
    "doc4 = Document(\n",
    "        page_content=\"Jasprit Bumrah is considered one of the best fast bowlers in T20 cricket. Playing for Mumbai Indians, he is known for his yorkers and death-over expertise.\",\n",
    "        metadata={\"team\": \"Mumbai Indians\"}\n",
    "    )\n",
    "doc5 = Document(\n",
    "        page_content=\"Ravindra Jadeja is a dynamic all-rounder who contributes with both bat and ball. Representing Chennai Super Kings, his quick fielding and match-winning performances make him a key player.\",\n",
    "        metadata={\"team\": \"Chennai Super Kings\"}\n",
    "    )"
   ]
  },
  {
   "cell_type": "code",
   "execution_count": 17,
   "id": "3f1586ab",
   "metadata": {},
   "outputs": [],
   "source": [
    "docs = [doc1, doc2, doc3, doc4, doc5]"
   ]
  },
  {
   "cell_type": "code",
   "execution_count": 18,
   "id": "bca1eccc",
   "metadata": {},
   "outputs": [],
   "source": [
    "vector_store = Chroma(\n",
    "    embedding_function=GoogleGenerativeAIEmbeddings(model='models/embedding-001'),\n",
    "    persist_directory='chroma_db',\n",
    "    collection_name='sample'\n",
    ")"
   ]
  },
  {
   "cell_type": "markdown",
   "id": "cdfba4fd",
   "metadata": {},
   "source": [
    "#### Add documents in vector store."
   ]
  },
  {
   "cell_type": "code",
   "execution_count": 19,
   "id": "f9506b2e",
   "metadata": {},
   "outputs": [
    {
     "data": {
      "text/plain": [
       "['660fefc8-cbf0-4302-b84b-4fb104d418a4',\n",
       " '3ee3521c-58d7-4b5d-8e0d-3e37064b1dc5',\n",
       " '1fce22b4-11ab-44b4-96b9-c6f53d670198',\n",
       " 'b7687732-e71a-4418-97d6-8cb494d005e8',\n",
       " 'ea711ed4-6c5a-46a6-bd4b-4fe39ac4fc2d']"
      ]
     },
     "execution_count": 19,
     "metadata": {},
     "output_type": "execute_result"
    }
   ],
   "source": [
    "vector_store.add_documents(docs)"
   ]
  },
  {
   "cell_type": "markdown",
   "id": "0128685e",
   "metadata": {},
   "source": [
    "#### View Documents"
   ]
  },
  {
   "cell_type": "code",
   "execution_count": 20,
   "id": "bfe8af5f",
   "metadata": {},
   "outputs": [
    {
     "data": {
      "text/plain": [
       "{'ids': ['3b6871f3-45e2-4525-8c1f-340e2e8db287',\n",
       "  'a8034449-d4e9-44e2-ba03-8670e4d5426f',\n",
       "  '0de2c17e-ace1-4933-98bf-0aa67b6d3eb1',\n",
       "  'c704c5f9-8657-4d20-bec9-e1ed1d9178b5',\n",
       "  '660fefc8-cbf0-4302-b84b-4fb104d418a4',\n",
       "  '3ee3521c-58d7-4b5d-8e0d-3e37064b1dc5',\n",
       "  '1fce22b4-11ab-44b4-96b9-c6f53d670198',\n",
       "  'b7687732-e71a-4418-97d6-8cb494d005e8',\n",
       "  'ea711ed4-6c5a-46a6-bd4b-4fe39ac4fc2d'],\n",
       " 'embeddings': array([[ 0.03188305, -0.03367956, -0.04391207, ...,  0.01081572,\n",
       "         -0.01058988, -0.00152006],\n",
       "        [ 0.01581644,  0.00338993, -0.02235094, ...,  0.00195286,\n",
       "         -0.07188983, -0.00888234],\n",
       "        [ 0.01016247, -0.0516265 , -0.02895994, ...,  0.03298408,\n",
       "         -0.02099222,  0.01782753],\n",
       "        ...,\n",
       "        [ 0.01581644,  0.00338993, -0.02235094, ...,  0.00195286,\n",
       "         -0.07188983, -0.00888234],\n",
       "        [ 0.01016247, -0.0516265 , -0.02895994, ...,  0.03298408,\n",
       "         -0.02099222,  0.01782753],\n",
       "        [-0.00089462,  0.01971646, -0.00964439, ...,  0.00234126,\n",
       "         -0.01333654, -0.01257177]], shape=(9, 768)),\n",
       " 'documents': [\"Rohit Sharma is the most successful captain in IPL history, leading Mumbai Indians to five titles. He's known for his calm demeanor and ability to play big innings under pressure.\",\n",
       "  'MS Dhoni, famously known as Captain Cool, has led Chennai Super Kings to multiple IPL titles. His finishing skills, wicketkeeping, and leadership are legendary.',\n",
       "  'Jasprit Bumrah is considered one of the best fast bowlers in T20 cricket. Playing for Mumbai Indians, he is known for his yorkers and death-over expertise.',\n",
       "  'Ravindra Jadeja is a dynamic all-rounder who contributes with both bat and ball. Representing Chennai Super Kings, his quick fielding and match-winning performances make him a key player.',\n",
       "  'Virat Kohli is one of the most successful and consistent batsmen in IPL history. Known for his aggressive batting style and fitness, he has led the Royal Challengers Bangalore in multiple seasons.',\n",
       "  \"Rohit Sharma is the most successful captain in IPL history, leading Mumbai Indians to five titles. He's known for his calm demeanor and ability to play big innings under pressure.\",\n",
       "  'MS Dhoni, famously known as Captain Cool, has led Chennai Super Kings to multiple IPL titles. His finishing skills, wicketkeeping, and leadership are legendary.',\n",
       "  'Jasprit Bumrah is considered one of the best fast bowlers in T20 cricket. Playing for Mumbai Indians, he is known for his yorkers and death-over expertise.',\n",
       "  'Ravindra Jadeja is a dynamic all-rounder who contributes with both bat and ball. Representing Chennai Super Kings, his quick fielding and match-winning performances make him a key player.'],\n",
       " 'uris': None,\n",
       " 'included': ['embeddings', 'documents', 'metadatas'],\n",
       " 'data': None,\n",
       " 'metadatas': [{'team': 'Mumbai Indians'},\n",
       "  {'team': 'Chennai Super Kings'},\n",
       "  {'team': 'Mumbai Indians'},\n",
       "  {'team': 'Chennai Super Kings'},\n",
       "  {'team': 'Royal Challengers Bangalore'},\n",
       "  {'team': 'Mumbai Indians'},\n",
       "  {'team': 'Chennai Super Kings'},\n",
       "  {'team': 'Mumbai Indians'},\n",
       "  {'team': 'Chennai Super Kings'}]}"
      ]
     },
     "execution_count": 20,
     "metadata": {},
     "output_type": "execute_result"
    }
   ],
   "source": [
    "vector_store.get(include=['embeddings', 'documents', 'metadatas'])"
   ]
  },
  {
   "cell_type": "markdown",
   "id": "5d45f1e6",
   "metadata": {},
   "source": [
    "#### Search documents"
   ]
  },
  {
   "cell_type": "code",
   "execution_count": 21,
   "id": "ea8768ef",
   "metadata": {},
   "outputs": [
    {
     "data": {
      "text/plain": [
       "[Document(metadata={'team': 'Royal Challengers Bangalore'}, page_content='Virat Kohli is one of the most successful and consistent batsmen in IPL history. Known for his aggressive batting style and fitness, he has led the Royal Challengers Bangalore in multiple seasons.'),\n",
       " Document(metadata={'team': 'Chennai Super Kings'}, page_content='Ravindra Jadeja is a dynamic all-rounder who contributes with both bat and ball. Representing Chennai Super Kings, his quick fielding and match-winning performances make him a key player.')]"
      ]
     },
     "execution_count": 21,
     "metadata": {},
     "output_type": "execute_result"
    }
   ],
   "source": [
    "vector_store.similarity_search(\n",
    "    query='Who among these are a batsmen?',\n",
    "    k=2\n",
    ")"
   ]
  },
  {
   "cell_type": "markdown",
   "id": "1b8e7439",
   "metadata": {},
   "source": [
    "#### Search with similarity score"
   ]
  },
  {
   "cell_type": "code",
   "execution_count": 22,
   "id": "764921df",
   "metadata": {},
   "outputs": [
    {
     "data": {
      "text/plain": [
       "[(Document(metadata={'team': 'Mumbai Indians'}, page_content='Jasprit Bumrah is considered one of the best fast bowlers in T20 cricket. Playing for Mumbai Indians, he is known for his yorkers and death-over expertise.'),\n",
       "  0.770696222782135),\n",
       " (Document(metadata={'team': 'Mumbai Indians'}, page_content='Jasprit Bumrah is considered one of the best fast bowlers in T20 cricket. Playing for Mumbai Indians, he is known for his yorkers and death-over expertise.'),\n",
       "  0.770696222782135)]"
      ]
     },
     "execution_count": 22,
     "metadata": {},
     "output_type": "execute_result"
    }
   ],
   "source": [
    "vector_store.similarity_search_with_score(\n",
    "    query='Who among these are a bowler?',\n",
    "    k=2\n",
    ")"
   ]
  },
  {
   "cell_type": "markdown",
   "id": "9902a6e0",
   "metadata": {},
   "source": [
    "#### metadata filtering"
   ]
  },
  {
   "cell_type": "code",
   "execution_count": 23,
   "id": "907e5c1a",
   "metadata": {},
   "outputs": [
    {
     "data": {
      "text/plain": [
       "[(Document(metadata={'team': 'Chennai Super Kings'}, page_content='Ravindra Jadeja is a dynamic all-rounder who contributes with both bat and ball. Representing Chennai Super Kings, his quick fielding and match-winning performances make him a key player.'),\n",
       "  0.871087908744812),\n",
       " (Document(metadata={'team': 'Chennai Super Kings'}, page_content='Ravindra Jadeja is a dynamic all-rounder who contributes with both bat and ball. Representing Chennai Super Kings, his quick fielding and match-winning performances make him a key player.'),\n",
       "  0.871087908744812),\n",
       " (Document(metadata={'team': 'Chennai Super Kings'}, page_content='MS Dhoni, famously known as Captain Cool, has led Chennai Super Kings to multiple IPL titles. His finishing skills, wicketkeeping, and leadership are legendary.'),\n",
       "  0.8778100609779358),\n",
       " (Document(metadata={'team': 'Chennai Super Kings'}, page_content='MS Dhoni, famously known as Captain Cool, has led Chennai Super Kings to multiple IPL titles. His finishing skills, wicketkeeping, and leadership are legendary.'),\n",
       "  0.8778100609779358)]"
      ]
     },
     "execution_count": 23,
     "metadata": {},
     "output_type": "execute_result"
    }
   ],
   "source": [
    "vector_store.similarity_search_with_score(\n",
    "    query=\"\",\n",
    "    filter={'team': 'Chennai Super Kings'}\n",
    ")"
   ]
  },
  {
   "cell_type": "markdown",
   "id": "b237b587",
   "metadata": {},
   "source": [
    "#### Update documents"
   ]
  },
  {
   "cell_type": "code",
   "execution_count": 24,
   "id": "dc75364e",
   "metadata": {},
   "outputs": [],
   "source": [
    "update_doc1 = Document(\n",
    "    page_content=\"Virat Kohli, the former captain of Royal Challengers Bangalore (RCB), is renowned for his aggressive leadership and consistent batting performances. He holds the record for the most runs in IPL history, including multiple centuries in a single season. Despite RCB not winning an IPL title under his captaincy, Kohli's passion and fitness set a benchmark for the league. His ability to chase targets and anchor innings has made him one of the most dependable players in T20 cricket.\",\n",
    "    metadata={\"team\": \"Royal Challengers Bangalore\"}\n",
    ")\n",
    "vector_store.update_document(document_id='3b6871f3-45e2-4525-8c1f-340e2e8db287', document=update_doc1)"
   ]
  },
  {
   "cell_type": "markdown",
   "id": "fa166823",
   "metadata": {},
   "source": [
    "#### View documents"
   ]
  },
  {
   "cell_type": "code",
   "execution_count": 25,
   "id": "6160b793",
   "metadata": {},
   "outputs": [
    {
     "data": {
      "text/plain": [
       "{'ids': ['3b6871f3-45e2-4525-8c1f-340e2e8db287',\n",
       "  'a8034449-d4e9-44e2-ba03-8670e4d5426f',\n",
       "  '0de2c17e-ace1-4933-98bf-0aa67b6d3eb1',\n",
       "  'c704c5f9-8657-4d20-bec9-e1ed1d9178b5',\n",
       "  '660fefc8-cbf0-4302-b84b-4fb104d418a4',\n",
       "  '3ee3521c-58d7-4b5d-8e0d-3e37064b1dc5',\n",
       "  '1fce22b4-11ab-44b4-96b9-c6f53d670198',\n",
       "  'b7687732-e71a-4418-97d6-8cb494d005e8',\n",
       "  'ea711ed4-6c5a-46a6-bd4b-4fe39ac4fc2d'],\n",
       " 'embeddings': array([[ 0.02001663, -0.01274028, -0.02455907, ...,  0.00292782,\n",
       "         -0.01331383,  0.00581167],\n",
       "        [ 0.01581644,  0.00338993, -0.02235094, ...,  0.00195286,\n",
       "         -0.07188983, -0.00888234],\n",
       "        [ 0.01016247, -0.0516265 , -0.02895994, ...,  0.03298408,\n",
       "         -0.02099222,  0.01782753],\n",
       "        ...,\n",
       "        [ 0.01581644,  0.00338993, -0.02235094, ...,  0.00195286,\n",
       "         -0.07188983, -0.00888234],\n",
       "        [ 0.01016247, -0.0516265 , -0.02895994, ...,  0.03298408,\n",
       "         -0.02099222,  0.01782753],\n",
       "        [-0.00089462,  0.01971646, -0.00964439, ...,  0.00234126,\n",
       "         -0.01333654, -0.01257177]], shape=(9, 768)),\n",
       " 'documents': [\"Virat Kohli, the former captain of Royal Challengers Bangalore (RCB), is renowned for his aggressive leadership and consistent batting performances. He holds the record for the most runs in IPL history, including multiple centuries in a single season. Despite RCB not winning an IPL title under his captaincy, Kohli's passion and fitness set a benchmark for the league. His ability to chase targets and anchor innings has made him one of the most dependable players in T20 cricket.\",\n",
       "  'MS Dhoni, famously known as Captain Cool, has led Chennai Super Kings to multiple IPL titles. His finishing skills, wicketkeeping, and leadership are legendary.',\n",
       "  'Jasprit Bumrah is considered one of the best fast bowlers in T20 cricket. Playing for Mumbai Indians, he is known for his yorkers and death-over expertise.',\n",
       "  'Ravindra Jadeja is a dynamic all-rounder who contributes with both bat and ball. Representing Chennai Super Kings, his quick fielding and match-winning performances make him a key player.',\n",
       "  'Virat Kohli is one of the most successful and consistent batsmen in IPL history. Known for his aggressive batting style and fitness, he has led the Royal Challengers Bangalore in multiple seasons.',\n",
       "  \"Rohit Sharma is the most successful captain in IPL history, leading Mumbai Indians to five titles. He's known for his calm demeanor and ability to play big innings under pressure.\",\n",
       "  'MS Dhoni, famously known as Captain Cool, has led Chennai Super Kings to multiple IPL titles. His finishing skills, wicketkeeping, and leadership are legendary.',\n",
       "  'Jasprit Bumrah is considered one of the best fast bowlers in T20 cricket. Playing for Mumbai Indians, he is known for his yorkers and death-over expertise.',\n",
       "  'Ravindra Jadeja is a dynamic all-rounder who contributes with both bat and ball. Representing Chennai Super Kings, his quick fielding and match-winning performances make him a key player.'],\n",
       " 'uris': None,\n",
       " 'included': ['embeddings', 'documents', 'metadatas'],\n",
       " 'data': None,\n",
       " 'metadatas': [{'team': 'Royal Challengers Bangalore'},\n",
       "  {'team': 'Chennai Super Kings'},\n",
       "  {'team': 'Mumbai Indians'},\n",
       "  {'team': 'Chennai Super Kings'},\n",
       "  {'team': 'Royal Challengers Bangalore'},\n",
       "  {'team': 'Mumbai Indians'},\n",
       "  {'team': 'Chennai Super Kings'},\n",
       "  {'team': 'Mumbai Indians'},\n",
       "  {'team': 'Chennai Super Kings'}]}"
      ]
     },
     "execution_count": 25,
     "metadata": {},
     "output_type": "execute_result"
    }
   ],
   "source": [
    "vector_store.get(include=['embeddings','documents', 'metadatas'])"
   ]
  },
  {
   "cell_type": "markdown",
   "id": "d4514adf",
   "metadata": {},
   "source": [
    "#### Delete documents"
   ]
  },
  {
   "cell_type": "code",
   "execution_count": 26,
   "id": "7851ae3b",
   "metadata": {},
   "outputs": [],
   "source": [
    "vector_store.delete(ids='a8034449-d4e9-44e2-ba03-8670e4d5426f')"
   ]
  },
  {
   "cell_type": "code",
   "execution_count": 27,
   "id": "242ec6c5",
   "metadata": {},
   "outputs": [
    {
     "data": {
      "text/plain": [
       "{'ids': ['3b6871f3-45e2-4525-8c1f-340e2e8db287',\n",
       "  '0de2c17e-ace1-4933-98bf-0aa67b6d3eb1',\n",
       "  'c704c5f9-8657-4d20-bec9-e1ed1d9178b5',\n",
       "  '660fefc8-cbf0-4302-b84b-4fb104d418a4',\n",
       "  '3ee3521c-58d7-4b5d-8e0d-3e37064b1dc5',\n",
       "  '1fce22b4-11ab-44b4-96b9-c6f53d670198',\n",
       "  'b7687732-e71a-4418-97d6-8cb494d005e8',\n",
       "  'ea711ed4-6c5a-46a6-bd4b-4fe39ac4fc2d'],\n",
       " 'embeddings': array([[ 0.02001663, -0.01274028, -0.02455907, ...,  0.00292782,\n",
       "         -0.01331383,  0.00581167],\n",
       "        [ 0.01016247, -0.0516265 , -0.02895994, ...,  0.03298408,\n",
       "         -0.02099222,  0.01782753],\n",
       "        [-0.00089462,  0.01971646, -0.00964439, ...,  0.00234126,\n",
       "         -0.01333654, -0.01257177],\n",
       "        ...,\n",
       "        [ 0.01581644,  0.00338993, -0.02235094, ...,  0.00195286,\n",
       "         -0.07188983, -0.00888234],\n",
       "        [ 0.01016247, -0.0516265 , -0.02895994, ...,  0.03298408,\n",
       "         -0.02099222,  0.01782753],\n",
       "        [-0.00089462,  0.01971646, -0.00964439, ...,  0.00234126,\n",
       "         -0.01333654, -0.01257177]], shape=(8, 768)),\n",
       " 'documents': [\"Virat Kohli, the former captain of Royal Challengers Bangalore (RCB), is renowned for his aggressive leadership and consistent batting performances. He holds the record for the most runs in IPL history, including multiple centuries in a single season. Despite RCB not winning an IPL title under his captaincy, Kohli's passion and fitness set a benchmark for the league. His ability to chase targets and anchor innings has made him one of the most dependable players in T20 cricket.\",\n",
       "  'Jasprit Bumrah is considered one of the best fast bowlers in T20 cricket. Playing for Mumbai Indians, he is known for his yorkers and death-over expertise.',\n",
       "  'Ravindra Jadeja is a dynamic all-rounder who contributes with both bat and ball. Representing Chennai Super Kings, his quick fielding and match-winning performances make him a key player.',\n",
       "  'Virat Kohli is one of the most successful and consistent batsmen in IPL history. Known for his aggressive batting style and fitness, he has led the Royal Challengers Bangalore in multiple seasons.',\n",
       "  \"Rohit Sharma is the most successful captain in IPL history, leading Mumbai Indians to five titles. He's known for his calm demeanor and ability to play big innings under pressure.\",\n",
       "  'MS Dhoni, famously known as Captain Cool, has led Chennai Super Kings to multiple IPL titles. His finishing skills, wicketkeeping, and leadership are legendary.',\n",
       "  'Jasprit Bumrah is considered one of the best fast bowlers in T20 cricket. Playing for Mumbai Indians, he is known for his yorkers and death-over expertise.',\n",
       "  'Ravindra Jadeja is a dynamic all-rounder who contributes with both bat and ball. Representing Chennai Super Kings, his quick fielding and match-winning performances make him a key player.'],\n",
       " 'uris': None,\n",
       " 'included': ['embeddings', 'documents', 'metadatas'],\n",
       " 'data': None,\n",
       " 'metadatas': [{'team': 'Royal Challengers Bangalore'},\n",
       "  {'team': 'Mumbai Indians'},\n",
       "  {'team': 'Chennai Super Kings'},\n",
       "  {'team': 'Royal Challengers Bangalore'},\n",
       "  {'team': 'Mumbai Indians'},\n",
       "  {'team': 'Chennai Super Kings'},\n",
       "  {'team': 'Mumbai Indians'},\n",
       "  {'team': 'Chennai Super Kings'}]}"
      ]
     },
     "execution_count": 27,
     "metadata": {},
     "output_type": "execute_result"
    }
   ],
   "source": [
    "vector_store.get(include=['embeddings','documents', 'metadatas'])"
   ]
  }
 ],
 "metadata": {
  "kernelspec": {
   "display_name": "venv",
   "language": "python",
   "name": "python3"
  },
  "language_info": {
   "codemirror_mode": {
    "name": "ipython",
    "version": 3
   },
   "file_extension": ".py",
   "mimetype": "text/x-python",
   "name": "python",
   "nbconvert_exporter": "python",
   "pygments_lexer": "ipython3",
   "version": "3.12.4"
  }
 },
 "nbformat": 4,
 "nbformat_minor": 5
}
