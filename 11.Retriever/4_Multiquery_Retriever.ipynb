{
 "cells": [
  {
   "cell_type": "code",
   "execution_count": 2,
   "id": "96c366d2",
   "metadata": {},
   "outputs": [],
   "source": [
    "from langchain_community.vectorstores import FAISS\n",
    "from langchain_google_genai import GoogleGenerativeAIEmbeddings\n",
    "from langchain_core.documents import Document\n",
    "from langchain_google_genai import ChatGoogleGenerativeAI\n",
    "from langchain.retrievers.multi_query import MultiQueryRetriever"
   ]
  },
  {
   "cell_type": "code",
   "execution_count": 3,
   "id": "db819547",
   "metadata": {},
   "outputs": [],
   "source": [
    "all_docs = [\n",
    "    Document(page_content=\"Regular walking boosts heart health and can reduce symptoms of depression.\", metadata={\"source\": \"H1\"}),\n",
    "    Document(page_content=\"Consuming leafy greens and fruits helps detox the body and improve longevity.\", metadata={\"source\": \"H2\"}),\n",
    "    Document(page_content=\"Deep sleep is crucial for cellular repair and emotional regulation.\", metadata={\"source\": \"H3\"}),\n",
    "    Document(page_content=\"Mindfulness and controlled breathing lower cortisol and improve mental clarity.\", metadata={\"source\": \"H4\"}),\n",
    "    Document(page_content=\"Drinking sufficient water throughout the day helps maintain metabolism and energy.\", metadata={\"source\": \"H5\"}),\n",
    "    Document(page_content=\"The solar energy system in modern homes helps balance electricity demand.\", metadata={\"source\": \"I1\"}),\n",
    "    Document(page_content=\"Python balances readability with power, making it a popular system design language.\", metadata={\"source\": \"I2\"}),\n",
    "    Document(page_content=\"Photosynthesis enables plants to produce energy by converting sunlight.\", metadata={\"source\": \"I3\"}),\n",
    "    Document(page_content=\"The 2022 FIFA World Cup was held in Qatar and drew global energy and excitement.\", metadata={\"source\": \"I4\"}),\n",
    "    Document(page_content=\"Black holes bend spacetime and store immense gravitational energy.\", metadata={\"source\": \"I5\"}),\n",
    "]"
   ]
  },
  {
   "cell_type": "code",
   "execution_count": 4,
   "id": "dd3cad96",
   "metadata": {},
   "outputs": [],
   "source": [
    "embedding_model = GoogleGenerativeAIEmbeddings(model='models/embedding-001')\n",
    "\n",
    "vector_store = FAISS.from_documents(documents=all_docs, embedding=embedding_model)"
   ]
  },
  {
   "cell_type": "code",
   "execution_count": 5,
   "id": "098d6605",
   "metadata": {},
   "outputs": [],
   "source": [
    "similarity_retriever = vector_store.as_retriever(search_type=\"similarity\", search_kwargs={\"k\": 5})"
   ]
  },
  {
   "cell_type": "code",
   "execution_count": 13,
   "id": "901de8a0",
   "metadata": {},
   "outputs": [],
   "source": [
    "multiQuery_retriever = MultiQueryRetriever.from_llm(\n",
    "    retriever=vector_store.as_retriever(search_kwargs={'k': 5}),\n",
    "    llm=ChatGoogleGenerativeAI(model=\"gemini-2.5-flash\")\n",
    ")"
   ]
  },
  {
   "cell_type": "code",
   "execution_count": 14,
   "id": "6c315b58",
   "metadata": {},
   "outputs": [],
   "source": [
    "query = 'How to improve energy levels and maintain balance ?'"
   ]
  },
  {
   "cell_type": "code",
   "execution_count": 15,
   "id": "86127224",
   "metadata": {},
   "outputs": [],
   "source": [
    "similarity_results = similarity_retriever.invoke(query)\n",
    "multiQuery_results = multiQuery_retriever.invoke(query)"
   ]
  },
  {
   "cell_type": "code",
   "execution_count": 18,
   "id": "ba16d4cf",
   "metadata": {},
   "outputs": [
    {
     "name": "stdout",
     "output_type": "stream",
     "text": [
      "Result 1:\n",
      "Drinking sufficient water throughout the day helps maintain metabolism and energy.\n",
      "Result 2:\n",
      "Mindfulness and controlled breathing lower cortisol and improve mental clarity.\n",
      "Result 3:\n",
      "Consuming leafy greens and fruits helps detox the body and improve longevity.\n",
      "Result 4:\n",
      "Deep sleep is crucial for cellular repair and emotional regulation.\n",
      "Result 5:\n",
      "Regular walking boosts heart health and can reduce symptoms of depression.\n",
      "******************************************************************************************************************************************************\n",
      "Result 1:\n",
      "Drinking sufficient water throughout the day helps maintain metabolism and energy.\n",
      "Result 2:\n",
      "Mindfulness and controlled breathing lower cortisol and improve mental clarity.\n",
      "Result 3:\n",
      "Consuming leafy greens and fruits helps detox the body and improve longevity.\n",
      "Result 4:\n",
      "Deep sleep is crucial for cellular repair and emotional regulation.\n",
      "Result 5:\n",
      "Regular walking boosts heart health and can reduce symptoms of depression.\n"
     ]
    }
   ],
   "source": [
    "for i, doc in enumerate(similarity_results):\n",
    "    print(f\"Result {i+1}:\")\n",
    "    print(doc.page_content)\n",
    "    \n",
    "print(\"*\"*150)\n",
    "\n",
    "for i, doc in enumerate(multiQuery_results):\n",
    "    print(f\"Result {i+1}:\")\n",
    "    print(doc.page_content)"
   ]
  }
 ],
 "metadata": {
  "kernelspec": {
   "display_name": "venv",
   "language": "python",
   "name": "python3"
  },
  "language_info": {
   "codemirror_mode": {
    "name": "ipython",
    "version": 3
   },
   "file_extension": ".py",
   "mimetype": "text/x-python",
   "name": "python",
   "nbconvert_exporter": "python",
   "pygments_lexer": "ipython3",
   "version": "3.12.4"
  }
 },
 "nbformat": 4,
 "nbformat_minor": 5
}
